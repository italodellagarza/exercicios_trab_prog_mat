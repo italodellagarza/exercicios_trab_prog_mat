{
 "cells": [
  {
   "cell_type": "markdown",
   "metadata": {},
   "source": [
    "# Exercício 2 - Modelagem"
   ]
  },
  {
   "cell_type": "markdown",
   "metadata": {},
   "source": [
    "<html>\n",
    "Uma certa fábrica de camisetas deseja aproveitar as finais de um campeonato de futebol para vender camisetas dos times envolvidos. Os jogos vão durar quatro semanas. O custo de produção de cada camiseta é de R\\$ 2,00 nas duas primeiras semanas e R\\$ 2,50 nas duas últimas, quando a concorrência demandar por material no mercado. A demanda semanal de camisetas será de 5.000, 10.000, 30.000 e 60.000. A capacidade máxima de produção da empresa é de 25.000 camisetas semanalmente. Na primeira e na segunda semanas, a empresa poderá contratar horas extras de serviço e fabricar mais 10.000 camisetas em cada semana. Nesse caso, o custo de produção sobe para R\\$ 2,80. O excesso de produção pode ser estocado a um custo de R\\$ 0,20 por unidade por semana. Formule um modelo que minimize os custos. <b>Apresente o significado de variáveis e restrições.</b>\n",
    "</html>"
   ]
  },
  {
   "cell_type": "markdown",
   "metadata": {},
   "source": [
    "**Dados:**\n",
    "<ul>\n",
    "    <li>$\\pmb{c} = \\{2.00, 2.00, 2.50, 2.50\\} \\rightarrow$ custo de produção de uma camiseta em cada semana </li>\n",
    "    <li>$\\pmb{d} = \\{5000, 10000, 30000, 60000\\} \\rightarrow$ demanda em cada semana por camisetas</li>\n",
    "    <li>$25000 \\rightarrow$ máximo de produção de camisetas semanalmente</li>\n",
    "    <li>$10000 \\rightarrow$ máximo de camisetas possíveis de se fabricar com hora extra nas duas primeiras semanas</li>\n",
    "    <li>$\\pmb{c'} = \\{2.80, 2.80\\} \\rightarrow$ novos custos de produção caso haja uso da hora extra</li>\n",
    "    <li>$0.20 \\rightarrow$ custo do estoque semanal por camiseta</li>\n",
    "</ul>"
   ]
  },
  {
   "cell_type": "markdown",
   "metadata": {},
   "source": [
    "**Variáveis:**\n",
    "<ul>\n",
    "    <li>$\\pmb{x} = \\{x_i | i = 1, ..., 4\\} \\geq 0 \\rightarrow$ quantidade de camisetas fabricada na $i$-ésima semana</li>\n",
    "    <li>$\\pmb{x'} = \\{{x'}_1, {x'}_2\\} \\geq 0 \\rightarrow$ quantidade de camisetas extras fabricada na primeira e segunda semanas</li>\n",
    "</ul>"
   ]
  },
  {
   "cell_type": "markdown",
   "metadata": {},
   "source": [
    "**Cálculo das sobras:**\n",
    "<ul>\n",
    "    <li> Sobra 1ª para 2ª semana: $x_1 + x'_1 - 5000$</li>\n",
    "    <li> Sobra 2ª para 3ª semana: $x_2 + x'_2 + sobra\\_semana\\_1 - 10000 = x_1 + x'_1 + x_2 + x'_2 - 15000$</li>\n",
    "    <li> Sobra 3ª para 4ª semana: $x_3 + sobra\\_semana\\_2 - 30000 = x_1 + x'_1 + x_2 + x'_2 + x_3 - 45000$</li>\n",
    "</ul>\n",
    "\n",
    "**Custo total de todas as sobras:**\n",
    "<ul>\n",
    "    <li>$0.20(x_1 + x'_1 - 5000) + 0,20(x_1 + x'_1 + x_2 + x'_2 - 15000) + 0.20(x_1 + x'_1 + x_2 + x'_2 + x_3 - 45000) = 0.20(3x_1 + 3x'_1 + 2x_2 + 2x'_2 + x_3 - 65000)$</li>\n",
    "</ul>"
   ]
  },
  {
   "cell_type": "markdown",
   "metadata": {},
   "source": [
    "**Restrições:**\n",
    "<ul>\n",
    "    <li>$x_1 + x'_1 \\geq 5000 \\rightarrow$ a quantidade de camisetas fabricadas na primeira semana deve antender sua respectiva demanda</li>\n",
    "    <li>$x_2 + x'_2 + x_1 + x'_1 - 5000\\geq 10000 \\rightarrow$ a quantidade de camisetas fabricadas na segunda semana com as sobras da primeira semana deve atender à demanda da segunda semana</li>\n",
    "    <li>$x_3 + x_1 + x'_1 + x_2 + x'_2 - 15000 \\geq 30000 \\rightarrow$ a quantidade de camisetas fabricadas na terceira semana com as sobras da segunda semana deve atender à demanda da terceira semana</li>\n",
    "    <li>$x_4 + x_1 + x'_1 + x_2 + x'_2 + x_3 - 45000 = 60000 \\rightarrow$ a quantidade de camisetas fabricadas na quarta semana com as sobras da terceira semana deve atender à demanda da quarta semana</li>\n",
    "    <li>$\\forall{x_i \\in \\pmb{x}}, x_i \\leq 25000 \\rightarrow$ a quantidade de camisetas fabricadas durante a semana não pode ultrapassar o máximo semanal de camisetas</li>\n",
    "    <li>$x'_1, x'_2 \\leq 10000 \\rightarrow$ a quantidade de camisetas extras fabricadas em cada semana não podem ultrapassar o máximo (10000 camisetas)</li>\n",
    "<ul>"
   ]
  },
  {
   "cell_type": "markdown",
   "metadata": {},
   "source": [
    "**Modelo:**\n",
    "\n",
    ">$MIN f(\\pmb{x}) = \\pmb{c}^T\\pmb{x} +\\pmb{c'}^T\\pmb{x'} + 0.20(3x_1 + 3x'_1 + 2x_2 + 2x'_2 + x_3 - 65000)$<br>\n",
    ">s.a:\n",
    ">><li>$x_1 + x'_1 \\geq 5000$</li>\n",
    ">><li>$x_2 + x'_2 + x_1 + x'_1 - 5000\\geq 10000$</li>\n",
    ">><li>$x_3 + x_1 + x'_1 + x_2 + x'_2 - 15000 \\geq 30000$</li>\n",
    ">><li>$x_4 + x_1 + x'_1 + x_2 + x'_2 + x_3 - 45000 = 60000$</li>\n",
    ">><li>$\\forall{x_i \\in \\pmb{x}}, x_i \\leq 25000$</li>\n",
    ">><li>$x'_1, x'_2 \\leq 10000$</li>\n",
    ">><li>$\\pmb{x} \\geq 0$</li>\n"
   ]
  },
  {
   "cell_type": "markdown",
   "metadata": {},
   "source": [
    "### Programação"
   ]
  },
  {
   "cell_type": "markdown",
   "metadata": {},
   "source": [
    "Importando JuMP"
   ]
  },
  {
   "cell_type": "code",
   "execution_count": 1,
   "metadata": {},
   "outputs": [],
   "source": [
    "using JuMP"
   ]
  },
  {
   "cell_type": "markdown",
   "metadata": {},
   "source": [
    "Importando Gurobi"
   ]
  },
  {
   "cell_type": "code",
   "execution_count": 2,
   "metadata": {},
   "outputs": [],
   "source": [
    "using Gurobi"
   ]
  },
  {
   "cell_type": "markdown",
   "metadata": {},
   "source": [
    "Criando o modelo"
   ]
  },
  {
   "cell_type": "code",
   "execution_count": 3,
   "metadata": {},
   "outputs": [
    {
     "name": "stdout",
     "output_type": "stream",
     "text": [
      "Academic license - for non-commercial use only\n"
     ]
    },
    {
     "data": {
      "text/latex": [
       "$$ \\begin{alignat*}{1}\\text{feasibility}\\\\\n",
       "\\text{Subject to} \\quad\\end{alignat*}\n",
       " $$"
      ],
      "text/plain": [
       "A JuMP Model\n",
       "Feasibility problem with:\n",
       "Variables: 0\n",
       "Model mode: AUTOMATIC\n",
       "CachingOptimizer state: EMPTY_OPTIMIZER\n",
       "Solver name: Gurobi"
      ]
     },
     "execution_count": 3,
     "metadata": {},
     "output_type": "execute_result"
    }
   ],
   "source": [
    "m = Model(with_optimizer(Gurobi.Optimizer))"
   ]
  },
  {
   "cell_type": "markdown",
   "metadata": {},
   "source": [
    "Criando as variáveis de decisão\n"
   ]
  },
  {
   "cell_type": "code",
   "execution_count": 4,
   "metadata": {},
   "outputs": [
    {
     "data": {
      "text/latex": [
       "$$ x4 $$"
      ],
      "text/plain": [
       "x4"
      ]
     },
     "execution_count": 4,
     "metadata": {},
     "output_type": "execute_result"
    }
   ],
   "source": [
    "@variable(m, x1 >= 0) # Quantidade fabricada na primeira semana\n",
    "@variable(m, xl1 >= 0) # Quantidade extra fabricada na primeira semana\n",
    "@variable(m, x2 >= 0) # Quantidade fabricada na segunda semana\n",
    "@variable(m, xl2 >= 0) # Quantidade extra fabricada na segunda semana\n",
    "@variable(m, x3 >= 0) # Quantidade fabricada na terceira semana\n",
    "@variable(m, x4 >= 0) # Quantidade fabricada na quarta semana"
   ]
  },
  {
   "cell_type": "code",
   "execution_count": null,
   "metadata": {},
   "outputs": [],
   "source": []
  },
  {
   "cell_type": "code",
   "execution_count": 5,
   "metadata": {},
   "outputs": [
    {
     "data": {
      "text/latex": [
       "$$ 2.6 x1 + 2.4 x2 + 2.7 x3 + 2.5 x4 + 3.4 xl1 + 3.1999999999999997 xl2 - 13000 $$"
      ],
      "text/plain": [
       "2.6 x1 + 2.4 x2 + 2.7 x3 + 2.5 x4 + 3.4 xl1 + 3.1999999999999997 xl2 - 13000"
      ]
     },
     "execution_count": 5,
     "metadata": {},
     "output_type": "execute_result"
    }
   ],
   "source": [
    "@objective(m, Min, 2.00*x1 + 2.00*x2 + 2.50*x3 + 2.50*x4 + 2.80*xl1 + 2.80*xl2 + 0.20(3*x1 + 3*xl1 + 2*x2 + 2*xl2 + x3 - 65000))"
   ]
  },
  {
   "cell_type": "code",
   "execution_count": 6,
   "metadata": {},
   "outputs": [],
   "source": [
    "@constraints(m, begin\n",
    "    x1 + xl1 >= 5000\n",
    "    x1 + xl1 + x2 + xl2 - 5000 >= 10000\n",
    "    x1 + xl1 + x2 + xl2 + x3 - 15000 >= 30000\n",
    "    x1 + xl1 + x2 + xl2 + x3 + x4 - 45000 == 60000\n",
    "    x1 <= 25000\n",
    "    x2 <= 25000\n",
    "    x3 <= 25000\n",
    "    x4 <= 25000\n",
    "    xl1 <= 10000\n",
    "    xl2 <= 10000\n",
    "    end)"
   ]
  },
  {
   "cell_type": "code",
   "execution_count": 7,
   "metadata": {},
   "outputs": [
    {
     "data": {
      "text/latex": [
       "$$ \\begin{alignat*}{1}\\min\\quad & 2.6 x1 + 2.4 x2 + 2.7 x3 + 2.5 x4 + 3.4 xl1 + 3.1999999999999997 xl2 - 13000\\\\\n",
       "\\text{Subject to} \\quad & x1 \\geq 0.0\\\\\n",
       " & xl1 \\geq 0.0\\\\\n",
       " & x2 \\geq 0.0\\\\\n",
       " & xl2 \\geq 0.0\\\\\n",
       " & x3 \\geq 0.0\\\\\n",
       " & x4 \\geq 0.0\\\\\n",
       " & x1 + xl1 + x2 + xl2 + x3 + x4 = 105000.0\\\\\n",
       " & x1 + xl1 \\geq 5000.0\\\\\n",
       " & x1 + xl1 + x2 + xl2 \\geq 15000.0\\\\\n",
       " & x1 + xl1 + x2 + xl2 + x3 \\geq 45000.0\\\\\n",
       " & x1 \\leq 25000.0\\\\\n",
       " & x2 \\leq 25000.0\\\\\n",
       " & x3 \\leq 25000.0\\\\\n",
       " & x4 \\leq 25000.0\\\\\n",
       " & xl1 \\leq 10000.0\\\\\n",
       " & xl2 \\leq 10000.0\\\\\n",
       "\\end{alignat*}\n",
       " $$"
      ],
      "text/plain": [
       "A JuMP Model\n",
       "Minimization problem with:\n",
       "Variables: 6\n",
       "Objective function type: GenericAffExpr{Float64,VariableRef}\n",
       "`VariableRef`-in-`MathOptInterface.GreaterThan{Float64}`: 6 constraints\n",
       "`GenericAffExpr{Float64,VariableRef}`-in-`MathOptInterface.EqualTo{Float64}`: 1 constraint\n",
       "`GenericAffExpr{Float64,VariableRef}`-in-`MathOptInterface.GreaterThan{Float64}`: 3 constraints\n",
       "`GenericAffExpr{Float64,VariableRef}`-in-`MathOptInterface.LessThan{Float64}`: 6 constraints\n",
       "Model mode: AUTOMATIC\n",
       "CachingOptimizer state: EMPTY_OPTIMIZER\n",
       "Solver name: Gurobi\n",
       "Names registered in the model: x1, x2, x3, x4, xl1, xl2"
      ]
     },
     "execution_count": 7,
     "metadata": {},
     "output_type": "execute_result"
    }
   ],
   "source": [
    "m"
   ]
  },
  {
   "cell_type": "code",
   "execution_count": 8,
   "metadata": {},
   "outputs": [
    {
     "name": "stdout",
     "output_type": "stream",
     "text": [
      "Academic license - for non-commercial use only\n",
      "Optimize a model with 10 rows, 6 columns and 23 nonzeros\n",
      "Coefficient statistics:\n",
      "  Matrix range     [1e+00, 1e+00]\n",
      "  Objective range  [2e+00, 3e+00]\n",
      "  Bounds range     [0e+00, 0e+00]\n",
      "  RHS range        [5e+03, 1e+05]\n",
      "Presolve removed 9 rows and 3 columns\n",
      "Presolve time: 0.04s\n",
      "Presolved: 1 rows, 3 columns, 3 nonzeros\n",
      "\n",
      "Iteration    Objective       Primal Inf.    Dual Inf.      Time\n",
      "       0    2.5550000e+05   6.250000e+02   0.000000e+00      0s\n",
      "       1    2.5800000e+05   0.000000e+00   0.000000e+00      0s\n",
      "\n",
      "Solved in 1 iterations and 0.07 seconds\n",
      "Optimal objective  2.580000000e+05\n",
      "Tempo: 14.123151063919067s\n"
     ]
    }
   ],
   "source": [
    "start = time()\n",
    "optimize!(m)\n",
    "println(\"Tempo: $(time() - start)s\")"
   ]
  },
  {
   "cell_type": "code",
   "execution_count": 11,
   "metadata": {},
   "outputs": [
    {
     "name": "stdout",
     "output_type": "stream",
     "text": [
      "Valor ótimo: x1 = 25000.0, x2 = 25000.0, x3 = 25000.0, x4 = 25000.0, x'1 = 0.0, x'2 = 5000.0\n",
      "Função ótima: 258000.0\n"
     ]
    }
   ],
   "source": [
    "println(\"Valor ótimo: x1 = \", JuMP.value(x1), \", x2 = \", JuMP.value(x2),\n",
    "    \", x3 = \", JuMP.value(x3), \", x4 = \", JuMP.value(x4), \", x'1 = \", JuMP.value(xl1), \", x'2 = \", JuMP.value(xl2))\n",
    "println(\"Função ótima: \", JuMP.objective_value(m))"
   ]
  }
 ],
 "metadata": {
  "kernelspec": {
   "display_name": "Julia 1.1.0",
   "language": "julia",
   "name": "julia-1.1"
  },
  "language_info": {
   "file_extension": ".jl",
   "mimetype": "application/julia",
   "name": "julia",
   "version": "1.1.0"
  }
 },
 "nbformat": 4,
 "nbformat_minor": 2
}
